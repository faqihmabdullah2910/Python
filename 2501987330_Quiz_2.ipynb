{
  "nbformat": 4,
  "nbformat_minor": 0,
  "metadata": {
    "colab": {
      "provenance": []
    },
    "kernelspec": {
      "name": "python3",
      "display_name": "Python 3"
    },
    "language_info": {
      "name": "python"
    }
  },
  "cells": [
    {
      "cell_type": "markdown",
      "source": [
        "Newton Raphson\n",
        "17x^3 +2x^2+3"
      ],
      "metadata": {
        "id": "jKvqlynpkq5a"
      }
    },
    {
      "cell_type": "code",
      "execution_count": null,
      "metadata": {
        "colab": {
          "base_uri": "https://localhost:8080/"
        },
        "id": "b1eOuKZDORFw",
        "outputId": "a826e798-cab1-4bf1-ffaa-c985a54d4e4e"
      },
      "outputs": [
        {
          "output_type": "stream",
          "name": "stdout",
          "text": [
            "Iteration of  0 . new root =  2.6502403846153846\n",
            "Iteration of  0 . new root =  1.7459965649021978\n",
            "Iteration of  0 . new root =  1.1330214232000062\n",
            "Iteration of  0 . new root =  0.700266525705707\n",
            "Iteration of  0 . new root =  0.3472145932276518\n",
            "Iteration of  0 . new root =  -0.17720653318833568\n",
            "Iteration of  0 . new root =  -3.502241661951995\n",
            "Iteration of  0 . new root =  -2.353104751676019\n",
            "Iteration of  0 . new root =  -1.593248944039262\n",
            "Iteration of  0 . new root =  -1.1002875644151429\n",
            "Iteration of  0 . new root =  -0.7999187333720003\n",
            "Iteration of  0 . new root =  -0.6496960749545764\n",
            "Iteration of  0 . new root =  -0.6064878849401266\n",
            "The root of equation is =  -0.60301306376108\n"
          ]
        }
      ],
      "source": [
        "import numpy as np\n",
        "\n",
        "def f(x):\n",
        "  return 17*x**3 + 2*x**2 +3\n",
        "\n",
        "def df(x):\n",
        "  return 51*x**2 + 4*x\n",
        "\n",
        "i= 0\n",
        "def newton_raphson(xsoal, tol=0.031, max=20):\n",
        "  x_new= xsoal - (f(xsoal)/df(xsoal))\n",
        "\n",
        "  if (np.abs(f(x_new))<tol):\n",
        "    print(\"The root of equation is = \", x_new)\n",
        "  else:\n",
        "    i+1\n",
        "    if i>20:\n",
        "      print(\"root not found\")\n",
        "      return false\n",
        "    print(\"Iteration of \", i,\". new root = \", x_new )\n",
        "    newton_raphson(x_new)\n",
        "\n",
        "\n",
        "newton_raphson(4)"
      ]
    },
    {
      "cell_type": "markdown",
      "source": [
        "Bisection\n",
        "f(x) ∶ 12x^3+6x^2+9"
      ],
      "metadata": {
        "id": "N7_szxafomsd"
      }
    },
    {
      "cell_type": "code",
      "source": [
        "coordinates = [\n",
        "    [2, 4],\n",
        "    [-12, 17],\n",
        "    [18, -11],\n",
        "    [-22, 4],\n",
        "    [10, -5],\n",
        "    [-5, -13],\n",
        "    [6, -21],\n",
        "]\n",
        "def f(x):\n",
        "  return 12*x**3 + 6*x**2 + 9\n",
        "\n",
        "def bisection(a,b, tol=0.030):\n",
        "  if(np.sign(f(a))==np.sign(f(b))):\n",
        "    print(\"a=\",a,\"b=\",b, \"not bound a root\")\n",
        "    return\n",
        "  mid = (a+b)/2\n",
        "  if(np.abs(f(mid) <tol)):\n",
        "    print(\"root of the function = \",mid,\"with coordinates of x1 =\",a,\"x2 =\",b)\n",
        "  elif(np.sign(f(mid)) == np.sign(f(a))):\n",
        "    return bisection(mid, b)\n",
        "  elif(np.sign(f(mid)) == np.sign(f(b))):\n",
        "    return bisection(a, mid)\n",
        "\n",
        "for i, (x,y) in enumerate(coordinates):\n",
        "  bisection(x,y)\n",
        "\n",
        "\n"
      ],
      "metadata": {
        "colab": {
          "base_uri": "https://localhost:8080/"
        },
        "id": "4E8mFBG9olxX",
        "outputId": "8b7d52e9-cbab-4a5d-b675-be1ca2967f74"
      },
      "execution_count": null,
      "outputs": [
        {
          "output_type": "stream",
          "name": "stdout",
          "text": [
            "a= 2 b= 4 not bound a root\n",
            "root of the function =  -4.75 with coordinates of x1 = -12 x2 = 2.5\n",
            "root of the function =  -3.75 with coordinates of x1 = 3.5 x2 = -11\n",
            "root of the function =  -9.0 with coordinates of x1 = -22 x2 = 4\n",
            "root of the function =  -1.25 with coordinates of x1 = 2.5 x2 = -5\n",
            "a= -5 b= -13 not bound a root\n",
            "root of the function =  -7.5 with coordinates of x1 = 6 x2 = -21\n"
          ]
        }
      ]
    },
    {
      "cell_type": "markdown",
      "source": [
        "Riemann\n",
        "\n",
        "![image.png](data:image/png;base64,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)\n",
        "\n",
        "Left Riemann and Trapezoid Rule"
      ],
      "metadata": {
        "id": "0uYsYh8OsN0H"
      }
    },
    {
      "cell_type": "code",
      "source": [
        "def f(x):\n",
        "  return 3*x**3\n",
        "\n",
        "\n",
        "start = 7\n",
        "end = 12\n",
        "\n",
        "titik= 48\n",
        "kotak= titik-1\n",
        "\n",
        "lebar= (end - start)/ kotak\n",
        "split_x = np.linspace(start, end, titik)\n",
        "\n",
        "tinggi= f(split_x)\n",
        "\n",
        "left_Riemann = lebar *sum(tinggi[:kotak])\n",
        "print(left_Riemann)\n",
        "\n",
        "Trapezoid_Rule= lebar/2 *(tinggi[0]+ 2*sum(tinggi[1:kotak])+tinggi[kotak])\n",
        "print(Trapezoid_Rule)"
      ],
      "metadata": {
        "colab": {
          "base_uri": "https://localhost:8080/"
        },
        "id": "hruo8fe5sPAK",
        "outputId": "e60c5826-12eb-41fc-e37b-a83ce5d8964c"
      },
      "execution_count": null,
      "outputs": [
        {
          "output_type": "stream",
          "name": "stdout",
          "text": [
            "13531.045722046174\n",
            "13752.056360344046\n"
          ]
        }
      ]
    }
  ]
}